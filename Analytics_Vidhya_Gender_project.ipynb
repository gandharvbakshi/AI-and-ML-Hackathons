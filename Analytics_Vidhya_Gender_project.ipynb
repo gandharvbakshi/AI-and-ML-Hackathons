{
  "nbformat": 4,
  "nbformat_minor": 0,
  "metadata": {
    "colab": {
      "name": "Analytics Vidhya Gender project.ipynb",
      "provenance": [],
      "collapsed_sections": [],
      "machine_shape": "hm",
      "mount_file_id": "1Jp41BeCoPPvPb4KyuEvtxmBblbCUzagH",
      "authorship_tag": "ABX9TyM3iZ/4pGoOCvmFh691kW8m",
      "include_colab_link": true
    },
    "kernelspec": {
      "name": "python3",
      "display_name": "Python 3"
    },
    "language_info": {
      "name": "python"
    },
    "accelerator": "GPU"
  },
  "cells": [
    {
      "cell_type": "markdown",
      "metadata": {
        "id": "view-in-github",
        "colab_type": "text"
      },
      "source": [
        "<a href=\"https://colab.research.google.com/github/gandharvbakshi/AI-and-ML-Hackathons/blob/main/Analytics_Vidhya_Gender_project.ipynb\" target=\"_parent\"><img src=\"https://colab.research.google.com/assets/colab-badge.svg\" alt=\"Open In Colab\"/></a>"
      ]
    },
    {
      "cell_type": "code",
      "metadata": {
        "colab": {
          "base_uri": "https://localhost:8080/"
        },
        "id": "38oK7zTDz-Wo",
        "outputId": "9df9868b-a540-4b30-a5e6-6b1424c500f3"
      },
      "source": [
        "import matplotlib.pylab as plt\n",
        "import tensorflow as tf\n",
        "import tensorflow_hub as hub\n",
        "print(\"Tensorflow version\", tf.__version__)\n",
        "from tensorflow import keras\n",
        "print(\"Keras version\", keras.__version__)\n",
        "import matplotlib.pyplot as plt\n",
        "from functools import partial\n",
        "import seaborn as sns\n",
        "\n",
        "from sklearn.model_selection import train_test_split\n",
        "from sklearn.metrics import accuracy_score\n",
        "\n",
        "import numpy as np\n",
        "\n",
        "np.random.seed(42) \n",
        "tf.random.set_seed(42)\n",
        "\n",
        "import os\n",
        "import pandas as pd\n",
        "\n",
        "import cv2 \n",
        "import warnings\n",
        "warnings.filterwarnings('ignore')"
      ],
      "execution_count": 4,
      "outputs": [
        {
          "output_type": "stream",
          "text": [
            "Tensorflow version 2.6.0\n",
            "Keras version 2.6.0\n"
          ],
          "name": "stdout"
        }
      ]
    },
    {
      "cell_type": "code",
      "metadata": {
        "id": "DSB2X2rc6eQk"
      },
      "source": [
        "dataDir = \"/content/drive/MyDrive/AI ML Projects/AB Course/Gender detection\"\n",
        "trainDataRaw = pd.read_csv(\"/content/drive/MyDrive/AI ML Projects/AB Course/Gender detection/train.csv\")\n",
        "testDataRaw = pd.read_csv(\"/content/drive/MyDrive/AI ML Projects/AB Course/Gender detection/test_fkwGUNG.csv\")\n"
      ],
      "execution_count": 5,
      "outputs": []
    },
    {
      "cell_type": "code",
      "metadata": {
        "colab": {
          "base_uri": "https://localhost:8080/",
          "height": 206
        },
        "id": "lJDgZSKWcHwe",
        "outputId": "369eb090-b91d-46e1-b93a-411b1482e044"
      },
      "source": [
        "trainDataRaw.head(5)"
      ],
      "execution_count": 5,
      "outputs": [
        {
          "output_type": "execute_result",
          "data": {
            "text/html": [
              "<div>\n",
              "<style scoped>\n",
              "    .dataframe tbody tr th:only-of-type {\n",
              "        vertical-align: middle;\n",
              "    }\n",
              "\n",
              "    .dataframe tbody tr th {\n",
              "        vertical-align: top;\n",
              "    }\n",
              "\n",
              "    .dataframe thead th {\n",
              "        text-align: right;\n",
              "    }\n",
              "</style>\n",
              "<table border=\"1\" class=\"dataframe\">\n",
              "  <thead>\n",
              "    <tr style=\"text-align: right;\">\n",
              "      <th></th>\n",
              "      <th>image_names</th>\n",
              "      <th>class</th>\n",
              "    </tr>\n",
              "  </thead>\n",
              "  <tbody>\n",
              "    <tr>\n",
              "      <th>0</th>\n",
              "      <td>11413.jpg</td>\n",
              "      <td>1</td>\n",
              "    </tr>\n",
              "    <tr>\n",
              "      <th>1</th>\n",
              "      <td>9863.jpg</td>\n",
              "      <td>1</td>\n",
              "    </tr>\n",
              "    <tr>\n",
              "      <th>2</th>\n",
              "      <td>997.jpg</td>\n",
              "      <td>0</td>\n",
              "    </tr>\n",
              "    <tr>\n",
              "      <th>3</th>\n",
              "      <td>5950.jpg</td>\n",
              "      <td>0</td>\n",
              "    </tr>\n",
              "    <tr>\n",
              "      <th>4</th>\n",
              "      <td>10454.jpg</td>\n",
              "      <td>1</td>\n",
              "    </tr>\n",
              "  </tbody>\n",
              "</table>\n",
              "</div>"
            ],
            "text/plain": [
              "  image_names  class\n",
              "0   11413.jpg      1\n",
              "1    9863.jpg      1\n",
              "2     997.jpg      0\n",
              "3    5950.jpg      0\n",
              "4   10454.jpg      1"
            ]
          },
          "metadata": {
            "tags": []
          },
          "execution_count": 5
        }
      ]
    },
    {
      "cell_type": "code",
      "metadata": {
        "colab": {
          "base_uri": "https://localhost:8080/"
        },
        "id": "-EyMME_Za1zk",
        "outputId": "e6b6fed8-1e8a-407f-84fc-556c0714c66f"
      },
      "source": [
        "imagePath = os.path.join(dataDir, \"images\")\n",
        "fsa = []  \n",
        "X = [] \n",
        "X_scaled = []\n",
        "X_scaled = np.array(X_scaled)\n",
        "y = [] \n",
        "i = 0\n",
        "\n",
        "for img in trainDataRaw[\"image_names\"].tolist():\n",
        "  if (i % 1000 == 0):\n",
        "    print(i, \"th image done\")\n",
        "  img_array = cv2.imread(os.path.join(imagePath,img ))\n",
        "  #fsa.append(img_array)\n",
        "  i = i + 1\n",
        "  #new_array = cv2.resize(img_array, (IMG_SIZE,IMG_SIZE))\n",
        "  #X.append(img_array)\n",
        "  img_array = cv2.normalize(img_array, None, alpha=0, beta=1, norm_type=cv2.NORM_MINMAX, dtype=cv2.CV_32F)\n",
        "  X_scaled = np.append(X_scaled, img_array) #.append()\n",
        "  y.append(trainDataRaw.loc[trainDataRaw[\"image_names\"]==img, 'class'])\n",
        "  #plt.imshow(img_array)\n",
        "  #plt.show()\n",
        "  #break\n",
        "#X = np.array(X)\n",
        "#X_scaled = np.array(X_scaled)\n",
        "y = np.array(y)  "
      ],
      "execution_count": null,
      "outputs": [
        {
          "output_type": "stream",
          "text": [
            "0 th image done\n",
            "1000 th image done\n",
            "2000 th image done\n",
            "3000 th image done\n",
            "4000 th image done\n",
            "5000 th image done\n",
            "6000 th image done\n",
            "7000 th image done\n",
            "8000 th image done\n"
          ],
          "name": "stdout"
        }
      ]
    },
    {
      "cell_type": "code",
      "metadata": {
        "id": "ltu8KNXncakQ"
      },
      "source": [
        "i = 0\n",
        "X_test = []\n",
        "X_test_scaled = []\n",
        "X_test_scaled = np.array(X_test_scaled)\n",
        "\n",
        "for img in testDataRaw[\"image_names\"].tolist():\n",
        "  if (i % 1000 == 0):\n",
        "    print(i, \"th image done\")\n",
        "  img_array = cv2.imread(os.path.join(imagePath,img ))\n",
        "  #fsa.append(img_array)\n",
        "  i = i + 1\n",
        "  #new_array = cv2.resize(img_array, (IMG_SIZE,IMG_SIZE))\n",
        "  #X_test.append(img_array)\n",
        "  #X_test_scaled.append(img_array/ 255.0)\n",
        "  img_array = cv2.normalize(img_array, None, alpha=0, beta=1, norm_type=cv2.NORM_MINMAX, dtype=cv2.CV_32F)\n",
        "  X_test_scaled = np.append(X_test_scaled, img_array)\n",
        "  #plt.imshow(img_array)\n",
        "  #plt.show()\n",
        "  #break\n",
        "#X_test = np.array(X_test)\n"
      ],
      "execution_count": null,
      "outputs": []
    },
    {
      "cell_type": "code",
      "metadata": {
        "colab": {
          "base_uri": "https://localhost:8080/",
          "height": 283
        },
        "id": "u-9mbxvMcnsv",
        "outputId": "c2336791-5dd5-4b25-fe76-596050f6d402"
      },
      "source": [
        "a = []\n",
        "b = []\n",
        "c = []\n",
        "for i in range(0, len(fsa)):\n",
        "  a.append(fsa[i].shape[0])\n",
        "  b.append(fsa[i].shape[1])\n",
        "  c.append(fsa[i].shape[2])\n",
        "len(a)\n",
        "print(np.median(a), np.median(b), np.median(c))\n",
        "plt.subplot(1,3,1)\n",
        "plt.hist(a, bins=5)\n",
        "plt.subplot(1,3,2)\n",
        "plt.hist(b, bins=5)\n",
        "plt.subplot(1,3,3)\n",
        "plt.hist(c, bins=5)\n",
        "plt.show()"
      ],
      "execution_count": 8,
      "outputs": [
        {
          "output_type": "stream",
          "text": [
            "224.0 224.0 3.0\n"
          ],
          "name": "stdout"
        },
        {
          "output_type": "display_data",
          "data": {
            "image/png": "[encoded data removed]",
            "text/plain": [
              "<Figure size 432x288 with 3 Axes>"
            ]
          },
          "metadata": {
            "tags": [],
            "needs_background": "light"
          }
        }
      ]
    },
    {
      "cell_type": "code",
      "metadata": {
        "id": "iRygeCEncpuy"
      },
      "source": [
        "from numpy import save\n",
        "\n",
        "#print(X.shape, y.shape, X_test.shape)\n",
        "#save(os.path.join(dataDir,'X_train.npy'), X)\n",
        "#save(os.path.join(dataDir,'X_scaled_train.npy'), X_scaled)\n",
        "#save(os.path.join(dataDir,'Y_train.npy'), y)\n",
        "#save(os.path.join(dataDir,'X_test.npy'), X_test)\n",
        "#save(os.path.join(dataDir,'X_scaled_test.npy'), X_test_scaled)\n",
        "\n",
        "X = np.load(os.path.join(dataDir,'X_train.npy'))\n",
        "#X_scaled = np.load(os.path.join(dataDir,'X_scaled_train.npy'))\n",
        "y = np.load(os.path.join(dataDir,'Y_train.npy'))\n",
        "X_test = np.load(os.path.join(dataDir,'X_test.npy'))\n",
        "#X_test_scaled = np.load(os.path.join(dataDir,'X_scaled_test.npy'))"
      ],
      "execution_count": 6,
      "outputs": []
    },
    {
      "cell_type": "code",
      "metadata": {
        "colab": {
          "base_uri": "https://localhost:8080/"
        },
        "id": "zFlte5DzdVi9",
        "outputId": "ef9fa000-2e21-4874-b1cf-e855d16808d0"
      },
      "source": [
        "print(X.shape, y.shape, X_test.shape)"
      ],
      "execution_count": 7,
      "outputs": [
        {
          "output_type": "stream",
          "text": [
            "(12196, 224, 224, 3) (12196, 1) (5227, 224, 224, 3)\n"
          ],
          "name": "stdout"
        }
      ]
    },
    {
      "cell_type": "code",
      "metadata": {
        "id": "3LahEqJDdYhl"
      },
      "source": [
        "from keras.applications.vgg16 import VGG16\n",
        "from keras.applications.vgg16 import preprocess_input\n",
        "from keras.applications.vgg16 import decode_predictions\n",
        "\n",
        "from keras.applications.inception_v3 import InceptionV3\n",
        "from keras.applications.inception_v3 import preprocess_input\n",
        "from keras.applications.inception_v3 import decode_predictions\n",
        "\n",
        "#from keras.applications.resnet50 import ResNet50\n",
        "#from keras.applications.resnet50 import preprocess_input\n",
        "#from keras.applications.resnet50 import decode_predictions\n",
        "\n",
        "from keras.callbacks import ModelCheckpoint\n",
        "\n",
        "from keras.models import Sequential\n",
        "from keras.layers import Dense\n",
        "from keras.layers import Flatten\n",
        "from keras.layers import Dropout\n",
        "\n",
        "from tensorflow.keras.preprocessing.image import ImageDataGenerator\n",
        "\n",
        "#import efficientnet.keras as efn\n",
        "from keras.wrappers.scikit_learn import KerasRegressor\n",
        "from sklearn.model_selection import cross_val_score\n",
        "from sklearn.model_selection import KFold\n",
        "\n",
        "def VGG16_model():\n",
        "  base_model = VGG16(include_top=False, input_shape=(224, 224, 3))\n",
        "  base_model.trainable = False\n",
        "  model = keras.models.Sequential([base_model,\n",
        "                                  keras.layers.GlobalAveragePooling2D(),\n",
        "                                  keras.layers.Dense(1024, activation='relu'),\n",
        "                                  #keras.layers.Dropout(0.2),\n",
        "                                  keras.layers.Dense(units=1, activation='sigmoid')                                     \n",
        "                                  ])\n",
        "  base_learning_rate = 0.00001\n",
        "  model.compile(loss=\"binary_crossentropy\", optimizer=\"nadam\", metrics=[\"accuracy\"])  \n",
        "  return model\n",
        "\n",
        "def Inception_model():\n",
        "  base_model = InceptionV3(include_top=False, input_shape=(224, 224, 3))\n",
        "  base_model.trainable = False\n",
        "  model = keras.models.Sequential([base_model,\n",
        "                                  keras.layers.GlobalAveragePooling2D(),\n",
        "                                  keras.layers.Dense(1024, activation='relu'),\n",
        "                                  #keras.layers.Dropout(0.2),\n",
        "                                  keras.layers.Dense(units=1, activation='sigmoid')                                     \n",
        "                                  ])\n",
        "  base_learning_rate = 0.00001\n",
        "  model.compile(loss=\"binary_crossentropy\", optimizer=\"nadam\", metrics=[\"accuracy\"])  \n",
        "  return model\n",
        "\n",
        "def Inception_trainable_model():\n",
        "  base_model = InceptionV3(include_top=False, input_shape=(224, 224, 3))\n",
        "  #base_model.trainable = True\n",
        "  model = keras.models.Sequential([base_model,\n",
        "                                  keras.layers.GlobalAveragePooling2D(),\n",
        "                                  keras.layers.Dense(1024, activation='relu'),\n",
        "                                  #keras.layers.Dropout(0.2),\n",
        "                                  keras.layers.Dense(units=1, activation='sigmoid')                                     \n",
        "                                  ])\n",
        "  base_learning_rate = 0.00001\n",
        "  model.compile(loss=\"binary_crossentropy\", optimizer=\"nadam\", metrics=[\"accuracy\"])  \n",
        "  return model\n",
        "\n",
        "\n",
        "def VGG16_trainable_true_model():\n",
        "  base_model = VGG16(include_top=False, input_shape=(224, 224, 3))\n",
        "  #base_model.trainable = False\n",
        "  model = keras.models.Sequential([base_model,\n",
        "                                  keras.layers.GlobalAveragePooling2D(),\n",
        "                                  keras.layers.Dense(1024, activation='relu'),\n",
        "                                  #keras.layers.Dropout(0.2),\n",
        "                                  keras.layers.Dense(units=1, activation='sigmoid')                                     \n",
        "                                  ])\n",
        "  base_learning_rate = 0.00001\n",
        "  model.compile(loss=\"binary_crossentropy\", optimizer=\"nadam\", metrics=[\"accuracy\"])  \n",
        "  return model\n",
        "\n",
        "def VGG16_slow_learn_model():\n",
        "  base_model = VGG16(include_top=False, input_shape=(224, 224, 3))\n",
        "  base_model.trainable = False\n",
        "  model = keras.models.Sequential([base_model,\n",
        "                                  keras.layers.GlobalAveragePooling2D(),\n",
        "                                  keras.layers.Dense(1024, activation='relu'),\n",
        "                                  #keras.layers.Dropout(0.2),\n",
        "                                  keras.layers.Dense(units=1, activation='sigmoid')                                     \n",
        "                                  ])\n",
        "  base_learning_rate = 0.000001\n",
        "  model.compile(loss=\"binary_crossentropy\", optimizer=\"nadam\", metrics=[\"accuracy\"])  \n",
        "  return model\n",
        "\n",
        "def VGG16_fast_learn_model():\n",
        "  base_model = VGG16(include_top=False, input_shape=(224, 224, 3))\n",
        "  base_model.trainable = False\n",
        "  model = keras.models.Sequential([base_model,\n",
        "                                  keras.layers.GlobalAveragePooling2D(),\n",
        "                                  keras.layers.Dense(1024, activation='relu'),\n",
        "                                  #keras.layers.Dropout(0.2),\n",
        "                                  keras.layers.Dense(units=1, activation='sigmoid')                                     \n",
        "                                  ])\n",
        "  base_learning_rate = 0.0001\n",
        "  model.compile(loss=\"binary_crossentropy\", optimizer=\"nadam\", metrics=[\"accuracy\"])  \n",
        "  return model\n",
        "\n",
        "def VGG16_dropout_model():\n",
        "  base_model = VGG16(include_top=False, input_shape=(224, 224, 3))\n",
        "  base_model.trainable = False\n",
        "  model = keras.models.Sequential([base_model,\n",
        "                                  keras.layers.GlobalAveragePooling2D(),\n",
        "                                  keras.layers.Dense(1024, activation='relu'),\n",
        "                                  keras.layers.Dropout(0.2),\n",
        "                                  keras.layers.Dense(units=1, activation='sigmoid')                                     \n",
        "                                  ])\n",
        "  base_learning_rate = 0.00001\n",
        "  model.compile(loss=\"binary_crossentropy\", optimizer=\"nadam\", metrics=[\"accuracy\"])  \n",
        "  return model\n",
        "\n",
        "def VGG16_deeper_model():\n",
        "  base_model = VGG16(include_top=False, input_shape=(224, 224, 3))\n",
        "  base_model.trainable = False\n",
        "  model = keras.models.Sequential([base_model,\n",
        "                                  keras.layers.GlobalAveragePooling2D(),\n",
        "                                  keras.layers.Dense(1024, activation='relu'),\n",
        "                                  #keras.layers.Dropout(0.2),\n",
        "                                  keras.layers.Dense(1024, activation='relu'),\n",
        "                                  keras.layers.Dense(1024, activation='relu'),\n",
        "                                  keras.layers.Dense(units=1, activation='sigmoid')                                     \n",
        "                                  ])\n",
        "  base_learning_rate = 0.00001\n",
        "  model.compile(loss=\"binary_crossentropy\", optimizer=\"nadam\", metrics=[\"accuracy\"])  \n",
        "  return model\n",
        "\n",
        "def VGG16_deeper_dropout_model():\n",
        "  base_model = VGG16(include_top=False, input_shape=(224, 224, 3))\n",
        "  base_model.trainable = False\n",
        "  model = keras.models.Sequential([base_model,\n",
        "                                  keras.layers.GlobalAveragePooling2D(),\n",
        "                                  keras.layers.Dense(1024, activation='relu'),\n",
        "                                  keras.layers.Dropout(0.2),\n",
        "                                  keras.layers.Dense(1024, activation='relu'),\n",
        "                                  keras.layers.Dropout(0.2),\n",
        "                                  keras.layers.Dense(1024, activation='relu'),\n",
        "                                  keras.layers.Dropout(0.2),\n",
        "                                  keras.layers.Dense(units=1, activation='sigmoid')                                     \n",
        "                                  ])\n",
        "  base_learning_rate = 0.00001\n",
        "  model.compile(loss=\"binary_crossentropy\", optimizer=\"nadam\", metrics=[\"accuracy\"])  \n",
        "  return model\n",
        "\n",
        "def ResNet50_model():\n",
        "  base_model = ResNet50(include_top=False, input_shape=(224, 224, 3))\n",
        "  base_model.trainable = False\n",
        "  model = keras.models.Sequential([base_model,\n",
        "                                  keras.layers.GlobalAveragePooling2D(),\n",
        "                                  #keras.layers.Flatten(),\n",
        "                                  keras.layers.Dense(1024, activation='relu'),\n",
        "                                  keras.layers.Dropout(0.2),\n",
        "                                  keras.layers.Dense(1024, activation='relu'),\n",
        "                                  keras.layers.Dropout(0.2),\n",
        "                                  keras.layers.Dense(1024, activation='relu'),\n",
        "                                  #keras.layers.Dropout(0.2),\n",
        "                                  keras.layers.Dense(units=1, activation='sigmoid')                                     \n",
        "                                  ])\n",
        "  base_learning_rate = 0.00001\n",
        "  model.compile(loss=\"binary_crossentropy\", optimizer=\"nadam\", metrics=[\"accuracy\"])  \n",
        "  return model\n",
        "\n",
        "def variable_model(FILTERS = 64,KERNEL_SIZE = 7):\n",
        "  # create model\n",
        "  DefaultConv2D = partial(keras.layers.Conv2D, kernel_size=KERNEL_SIZE, activation='relu', padding=\"SAME\")\n",
        "  model = keras.models.Sequential([\n",
        "    DefaultConv2D(filters=FILTERS, kernel_size=KERNEL_SIZE, input_shape=[224, 224, 3]), \n",
        "    keras.layers.MaxPooling2D(pool_size=2), \n",
        "    DefaultConv2D(filters=128),  \n",
        "    DefaultConv2D(filters=128),\n",
        "    keras.layers.MaxPooling2D(pool_size=2),\n",
        "    DefaultConv2D(filters=256),\n",
        "    DefaultConv2D(filters=256),\n",
        "    keras.layers.MaxPooling2D(pool_size=2),\n",
        "    keras.layers.Flatten(),\n",
        "    keras.layers.Dense(units=128, activation='relu'),\n",
        "    keras.layers.Dropout(0.5),\n",
        "    keras.layers.Dense(units=64, activation='relu'),\n",
        "    keras.layers.Dropout(0.5),\n",
        "    keras.layers.Dense(units=1, activation='sigmoid')\n",
        "])               \n",
        "  model.compile(loss=\"binary_crossentropy\", optimizer=\"nadam\", metrics=[\"accuracy\"])    \n",
        "  return model\n",
        "\n",
        "def old_model():\n",
        "  # create model\n",
        "  DefaultConv2D = partial(keras.layers.Conv2D, kernel_size=3, activation='relu', padding=\"SAME\")\n",
        "  model = keras.models.Sequential([\n",
        "    DefaultConv2D(filters=64, kernel_size=7, input_shape=[224, 224, 3]), \n",
        "    keras.layers.MaxPooling2D(pool_size=2), \n",
        "    DefaultConv2D(filters=128),  \n",
        "    DefaultConv2D(filters=128),\n",
        "    keras.layers.MaxPooling2D(pool_size=2),\n",
        "    DefaultConv2D(filters=256),\n",
        "    DefaultConv2D(filters=256),\n",
        "    keras.layers.MaxPooling2D(pool_size=2),\n",
        "    keras.layers.Flatten(),\n",
        "    keras.layers.Dense(units=128, activation='relu'),\n",
        "    keras.layers.Dropout(0.5),\n",
        "    keras.layers.Dense(units=64, activation='relu'),\n",
        "    keras.layers.Dropout(0.5),\n",
        "    keras.layers.Dense(units=1, activation='sigmoid')\n",
        "])               \n",
        "  model.compile(loss=\"binary_crossentropy\", optimizer=\"nadam\", metrics=[\"accuracy\"])    \n",
        "  return model\n",
        "\n"
      ],
      "execution_count": 10,
      "outputs": []
    },
    {
      "cell_type": "code",
      "metadata": {
        "colab": {
          "base_uri": "https://localhost:8080/"
        },
        "id": "InLEZbi4dmq1",
        "outputId": "8fbe4aa5-7c7f-4ba8-cc58-55bb579b8faa"
      },
      "source": [
        "#X = X.astype('float64')\n",
        "#X_test = X_test.astype('float64')\n",
        "#X /= 255\n",
        "#X_test /= 255\n",
        "x_train, x_test, y_train, y_test = train_test_split(X, y, test_size=0.2)\n",
        "print(len(x_train), \"train +\", len(x_test), \"test\")\n"
      ],
      "execution_count": 11,
      "outputs": [
        {
          "output_type": "stream",
          "text": [
            "9756 train + 2440 test\n"
          ],
          "name": "stdout"
        }
      ]
    },
    {
      "cell_type": "code",
      "metadata": {
        "colab": {
          "base_uri": "https://localhost:8080/"
        },
        "id": "TcEE3egxqFaf",
        "outputId": "79746376-360a-4508-911d-2f4ab8712422"
      },
      "source": [
        "from sklearn.metrics import accuracy_score\n",
        "def predict_class(n):\n",
        "  if n > 0.5:\n",
        "    return 1\n",
        "  else:\n",
        "    return 0\n",
        "\n",
        "batch_size = 32\n",
        "FILTERS = [32, 64, 128]\n",
        "BATCH_SIZE = [32, 64, 128]\n",
        "KERNELS = [3,5,7, 9] \n",
        "\n",
        "Model_Table = []\n",
        "'''for filter in FILTERS:\n",
        "  for kernel in KERNELS:'''\n",
        "for bs in BATCH_SIZE:\n",
        "  print(bs)\n",
        "  model = variable_model(32, 3)\n",
        "  callback = tf.keras.callbacks.EarlyStopping(monitor='loss', patience=3)\n",
        "  trial = model.fit(x_train,y_train,  epochs=131, batch_size=bs, validation_data = (x_test, y_test), callbacks=[callback], verbose=0) #                      \n",
        "  y_bm_keras = model.predict(x_test)\n",
        "  y_bm_keras = list(map(predict_class, y_bm_keras))\n",
        "  score = accuracy_score(y_test, y_bm_keras)\n",
        "  print(bs, score)\n",
        "  Model_Table.append([ filter, kernel , score])\n"
      ],
      "execution_count": 20,
      "outputs": [
        {
          "output_type": "stream",
          "text": [
            "32\n",
            "32 0.6327868852459017\n",
            "64\n",
            "64 0.8135245901639344\n",
            "128\n",
            "128 0.5299180327868852\n"
          ],
          "name": "stdout"
        }
      ]
    },
    {
      "cell_type": "code",
      "metadata": {
        "colab": {
          "base_uri": "https://localhost:8080/"
        },
        "id": "WJ4DTMCZd0HC",
        "outputId": "65b968a9-0973-4674-dd9c-e412c59590ae"
      },
      "source": [
        "from sklearn.metrics import accuracy_score\n",
        "batch_size = 32\n",
        "\n",
        "# defining the path to save the model\n",
        "best_model_path = os.path.join(dataDir, 'best_model.hdf5')\n",
        "\n",
        "model = Inception_trainable_model() #variable_model(32, 3) #old_model()\n",
        "my_callbacks = [\n",
        "    tf.keras.callbacks.EarlyStopping(monitor='loss', patience=3),\n",
        "    ModelCheckpoint(best_model_path, monitor='val_accuracy', verbose = 1, save_best_only = True, mode='max')\n",
        "]\n",
        "\n",
        "#new_x_train = x_train/ 255.0\n",
        "#new_x_test = x_test / 255.0\n",
        "\n",
        "#new_x_train = preprocess_input(x_train)\n",
        "#new_x_test = preprocess_input(x_test)\n",
        "\n",
        "trial = model.fit(x_train,y_train,  epochs=131, validation_data = (x_test, y_test), callbacks=my_callbacks) #batch_size=batch_size,                      \n",
        "def predict_class(n):\n",
        "  if n > 0.5:\n",
        "    return 1\n",
        "  else:\n",
        "    return 0\n",
        "model.load_weights(best_model_path)\n",
        "y_bm_keras = model.predict(x_test)\n",
        "#y_bm_keras = model.predict_classes(x_test)\n",
        "#results = model.evaluate(, y_test)\n",
        "y_bm_keras = list(map(predict_class, y_bm_keras))\n",
        "print(accuracy_score(y_test, y_bm_keras))\n"
      ],
      "execution_count": 12,
      "outputs": [
        {
          "output_type": "stream",
          "text": [
            "Downloading data from https://storage.googleapis.com/tensorflow/keras-applications/inception_v3/inception_v3_weights_tf_dim_ordering_tf_kernels_notop.h5\n",
            "87916544/87910968 [==============================] - 2s 0us/step\n",
            "87924736/87910968 [==============================] - 2s 0us/step\n",
            "Epoch 1/131\n",
            "305/305 [==============================] - 84s 178ms/step - loss: 0.3459 - accuracy: 0.8404 - val_loss: 0.4006 - val_accuracy: 0.8803\n",
            "\n",
            "Epoch 00001: val_accuracy improved from -inf to 0.88033, saving model to /content/drive/MyDrive/AI ML Projects/AB Course/Gender detection/best_model.hdf5\n",
            "Epoch 2/131\n",
            "305/305 [==============================] - 52s 170ms/step - loss: 0.1725 - accuracy: 0.9298 - val_loss: 0.1958 - val_accuracy: 0.9193\n",
            "\n",
            "Epoch 00002: val_accuracy improved from 0.88033 to 0.91926, saving model to /content/drive/MyDrive/AI ML Projects/AB Course/Gender detection/best_model.hdf5\n",
            "Epoch 3/131\n",
            "305/305 [==============================] - 52s 170ms/step - loss: 0.1342 - accuracy: 0.9456 - val_loss: 0.2421 - val_accuracy: 0.8984\n",
            "\n",
            "Epoch 00003: val_accuracy did not improve from 0.91926\n",
            "Epoch 4/131\n",
            "305/305 [==============================] - 52s 170ms/step - loss: 0.1064 - accuracy: 0.9601 - val_loss: 0.1767 - val_accuracy: 0.9402\n",
            "\n",
            "Epoch 00004: val_accuracy improved from 0.91926 to 0.94016, saving model to /content/drive/MyDrive/AI ML Projects/AB Course/Gender detection/best_model.hdf5\n",
            "Epoch 5/131\n",
            "305/305 [==============================] - 52s 170ms/step - loss: 0.0832 - accuracy: 0.9682 - val_loss: 0.1523 - val_accuracy: 0.9480\n",
            "\n",
            "Epoch 00005: val_accuracy improved from 0.94016 to 0.94795, saving model to /content/drive/MyDrive/AI ML Projects/AB Course/Gender detection/best_model.hdf5\n",
            "Epoch 6/131\n",
            "305/305 [==============================] - 52s 170ms/step - loss: 0.0755 - accuracy: 0.9708 - val_loss: 0.1470 - val_accuracy: 0.9426\n",
            "\n",
            "Epoch 00006: val_accuracy did not improve from 0.94795\n",
            "Epoch 7/131\n",
            "305/305 [==============================] - 52s 170ms/step - loss: 0.0672 - accuracy: 0.9746 - val_loss: 0.1348 - val_accuracy: 0.9471\n",
            "\n",
            "Epoch 00007: val_accuracy did not improve from 0.94795\n",
            "Epoch 8/131\n",
            "305/305 [==============================] - 52s 170ms/step - loss: 0.0546 - accuracy: 0.9806 - val_loss: 0.1414 - val_accuracy: 0.9557\n",
            "\n",
            "Epoch 00008: val_accuracy improved from 0.94795 to 0.95574, saving model to /content/drive/MyDrive/AI ML Projects/AB Course/Gender detection/best_model.hdf5\n",
            "Epoch 9/131\n",
            "305/305 [==============================] - 52s 170ms/step - loss: 0.0466 - accuracy: 0.9835 - val_loss: 0.1472 - val_accuracy: 0.9455\n",
            "\n",
            "Epoch 00009: val_accuracy did not improve from 0.95574\n",
            "Epoch 10/131\n",
            "305/305 [==============================] - 52s 170ms/step - loss: 0.0451 - accuracy: 0.9837 - val_loss: 0.2154 - val_accuracy: 0.9398\n",
            "\n",
            "Epoch 00010: val_accuracy did not improve from 0.95574\n",
            "Epoch 11/131\n",
            "305/305 [==============================] - 52s 170ms/step - loss: 0.0429 - accuracy: 0.9860 - val_loss: 0.1656 - val_accuracy: 0.9381\n",
            "\n",
            "Epoch 00011: val_accuracy did not improve from 0.95574\n",
            "Epoch 12/131\n",
            "305/305 [==============================] - 52s 170ms/step - loss: 0.0369 - accuracy: 0.9854 - val_loss: 0.1776 - val_accuracy: 0.9553\n",
            "\n",
            "Epoch 00012: val_accuracy did not improve from 0.95574\n",
            "Epoch 13/131\n",
            "305/305 [==============================] - 52s 170ms/step - loss: 0.0331 - accuracy: 0.9877 - val_loss: 0.2139 - val_accuracy: 0.9410\n",
            "\n",
            "Epoch 00013: val_accuracy did not improve from 0.95574\n",
            "Epoch 14/131\n",
            "305/305 [==============================] - 52s 170ms/step - loss: 0.0293 - accuracy: 0.9893 - val_loss: 0.1261 - val_accuracy: 0.9594\n",
            "\n",
            "Epoch 00014: val_accuracy improved from 0.95574 to 0.95943, saving model to /content/drive/MyDrive/AI ML Projects/AB Course/Gender detection/best_model.hdf5\n",
            "Epoch 15/131\n",
            "305/305 [==============================] - 52s 170ms/step - loss: 0.0327 - accuracy: 0.9884 - val_loss: 0.1619 - val_accuracy: 0.9529\n",
            "\n",
            "Epoch 00015: val_accuracy did not improve from 0.95943\n",
            "Epoch 16/131\n",
            "305/305 [==============================] - 52s 170ms/step - loss: 0.0369 - accuracy: 0.9876 - val_loss: 0.1606 - val_accuracy: 0.9553\n",
            "\n",
            "Epoch 00016: val_accuracy did not improve from 0.95943\n",
            "Epoch 17/131\n",
            "305/305 [==============================] - 52s 170ms/step - loss: 0.0257 - accuracy: 0.9914 - val_loss: 0.2096 - val_accuracy: 0.9434\n",
            "\n",
            "Epoch 00017: val_accuracy did not improve from 0.95943\n",
            "Epoch 18/131\n",
            "305/305 [==============================] - 52s 170ms/step - loss: 0.0243 - accuracy: 0.9924 - val_loss: 0.1893 - val_accuracy: 0.9455\n",
            "\n",
            "Epoch 00018: val_accuracy did not improve from 0.95943\n",
            "Epoch 19/131\n",
            "305/305 [==============================] - 52s 170ms/step - loss: 0.0237 - accuracy: 0.9918 - val_loss: 0.1561 - val_accuracy: 0.9549\n",
            "\n",
            "Epoch 00019: val_accuracy did not improve from 0.95943\n",
            "Epoch 20/131\n",
            "305/305 [==============================] - 52s 170ms/step - loss: 0.0211 - accuracy: 0.9925 - val_loss: 0.2159 - val_accuracy: 0.9463\n",
            "\n",
            "Epoch 00020: val_accuracy did not improve from 0.95943\n",
            "Epoch 21/131\n",
            "305/305 [==============================] - 52s 170ms/step - loss: 0.0202 - accuracy: 0.9928 - val_loss: 0.2232 - val_accuracy: 0.9516\n",
            "\n",
            "Epoch 00021: val_accuracy did not improve from 0.95943\n",
            "Epoch 22/131\n",
            "305/305 [==============================] - 52s 170ms/step - loss: 0.0238 - accuracy: 0.9919 - val_loss: 0.2346 - val_accuracy: 0.9365\n",
            "\n",
            "Epoch 00022: val_accuracy did not improve from 0.95943\n",
            "Epoch 23/131\n",
            "305/305 [==============================] - 52s 170ms/step - loss: 0.0272 - accuracy: 0.9906 - val_loss: 0.1312 - val_accuracy: 0.9586\n",
            "\n",
            "Epoch 00023: val_accuracy did not improve from 0.95943\n",
            "Epoch 24/131\n",
            "305/305 [==============================] - 52s 170ms/step - loss: 0.0196 - accuracy: 0.9943 - val_loss: 0.1703 - val_accuracy: 0.9471\n",
            "\n",
            "Epoch 00024: val_accuracy did not improve from 0.95943\n",
            "Epoch 25/131\n",
            "305/305 [==============================] - 52s 170ms/step - loss: 0.0178 - accuracy: 0.9931 - val_loss: 0.2446 - val_accuracy: 0.9459\n",
            "\n",
            "Epoch 00025: val_accuracy did not improve from 0.95943\n",
            "Epoch 26/131\n",
            "305/305 [==============================] - 52s 170ms/step - loss: 0.0202 - accuracy: 0.9922 - val_loss: 0.1527 - val_accuracy: 0.9484\n",
            "\n",
            "Epoch 00026: val_accuracy did not improve from 0.95943\n",
            "Epoch 27/131\n",
            "305/305 [==============================] - 52s 170ms/step - loss: 0.0126 - accuracy: 0.9957 - val_loss: 0.1290 - val_accuracy: 0.9639\n",
            "\n",
            "Epoch 00027: val_accuracy improved from 0.95943 to 0.96393, saving model to /content/drive/MyDrive/AI ML Projects/AB Course/Gender detection/best_model.hdf5\n",
            "Epoch 28/131\n",
            "305/305 [==============================] - 52s 170ms/step - loss: 0.0158 - accuracy: 0.9942 - val_loss: 0.1477 - val_accuracy: 0.9598\n",
            "\n",
            "Epoch 00028: val_accuracy did not improve from 0.96393\n",
            "Epoch 29/131\n",
            "305/305 [==============================] - 52s 170ms/step - loss: 0.0180 - accuracy: 0.9935 - val_loss: 0.2300 - val_accuracy: 0.9393\n",
            "\n",
            "Epoch 00029: val_accuracy did not improve from 0.96393\n",
            "Epoch 30/131\n",
            "305/305 [==============================] - 52s 170ms/step - loss: 0.0180 - accuracy: 0.9935 - val_loss: 0.1242 - val_accuracy: 0.9594\n",
            "\n",
            "Epoch 00030: val_accuracy did not improve from 0.96393\n",
            "0.9639344262295082\n"
          ],
          "name": "stdout"
        }
      ]
    },
    {
      "cell_type": "code",
      "metadata": {
        "id": "BuyuEdME-q2d"
      },
      "source": [
        "y_bm_final = model.predict(X_test)\n",
        "y_bm_final = list(map(predict_class, y_bm_final))\n",
        "testDataSub = testDataRaw.copy()\n",
        "testDataSub['class'] = y_bm_final\n",
        "testDataSub.to_csv(os.path.join(dataDir, 'submission6 Inception V3 trainable with model checkpoint.csv'), index = False)"
      ],
      "execution_count": 13,
      "outputs": []
    },
    {
      "cell_type": "code",
      "metadata": {
        "id": "XkzadlRRBAFS"
      },
      "source": [
        ""
      ],
      "execution_count": null,
      "outputs": []
    }
  ]
}